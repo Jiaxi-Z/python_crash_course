{
 "metadata": {
  "language_info": {
   "codemirror_mode": {
    "name": "ipython",
    "version": 3
   },
   "file_extension": ".py",
   "mimetype": "text/x-python",
   "name": "python",
   "nbconvert_exporter": "python",
   "pygments_lexer": "ipython3",
   "version": "3.8.5-final"
  },
  "orig_nbformat": 2,
  "kernelspec": {
   "name": "python3",
   "display_name": "Python 3",
   "language": "python"
  }
 },
 "nbformat": 4,
 "nbformat_minor": 2,
 "cells": [
  {
   "cell_type": "code",
   "execution_count": null,
   "metadata": {},
   "outputs": [],
   "source": []
  },
  {
   "source": [
    "8-13 用户简介 ：复制前面的程序user_profile.py，在其中调用build_profile() 来创建有关你的简介；调用这个函数时，指定你的名和姓，以及三个描述的键-值对。"
   ],
   "cell_type": "markdown",
   "metadata": {}
  },
  {
   "cell_type": "code",
   "execution_count": 3,
   "metadata": {},
   "outputs": [
    {
     "output_type": "stream",
     "name": "stdout",
     "text": [
      "{'first_name': 'Jiaxi', 'last_name': 'Zhao', 'location': 'NUS', 'field': 'AI'}\n"
     ]
    }
   ],
   "source": [
    "def build_profile(first, last, **user_info):\n",
    "    \"\"\"创建一个字典，其中包含我们知道的有关用户的一切\"\"\"\n",
    "    profile = {}\n",
    "    profile['first_name'] = first.title()\n",
    "    profile['last_name'] = last.title()\n",
    "    for key, value in user_info.items():\n",
    "        profile[key] = value\n",
    "    return profile\n",
    "\n",
    "\n",
    "user_profile = build_profile('jiaxi', 'zhao',\n",
    "                                location='NUS',\n",
    "                                field='AI')\n",
    "print(user_profile)"
   ]
  },
  {
   "source": [
    "8-14 汽车 ：编写一个函数，将一辆汽车的信息存储在一个字典中。这个函数总是接受制造商和型号，还接受任意数量的关键字实参。这样调用这个函数：提供必不可少的信息，以及两个名称—值对，如颜色和选装配件。这个函数必须能够像下面这样进行调用：\n",
    "\n",
    "car = make_car('subaru', 'outback', color='blue', tow_package=True)"
   ],
   "cell_type": "markdown",
   "metadata": {}
  },
  {
   "cell_type": "code",
   "execution_count": 2,
   "metadata": {},
   "outputs": [
    {
     "output_type": "stream",
     "name": "stdout",
     "text": [
      "{'Producer': 'Subaru', 'Cartype': 'Outback', 'color': 'blue', 'tow_package': True}\n"
     ]
    }
   ],
   "source": [
    "def make_car(producer, cartype, **car_info):\n",
    "    profile = {}\n",
    "    profile['Producer']=producer.title()\n",
    "    profile['Cartype']= cartype.title()\n",
    "    for key, value in car_info.items():\n",
    "        profile[key] = value\n",
    "    return profile\n",
    "\n",
    "car = make_car('subaru', 'outback', color='blue', tow_package=True)\n",
    "print(car)"
   ]
  }
 ]
}