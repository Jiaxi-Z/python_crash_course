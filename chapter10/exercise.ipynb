{
 "cells": [
  {
   "cell_type": "markdown",
   "source": [
    "10-1 Python学习笔记 ：在文本编辑器中新建一个文件，写几句话来总结一下你至此学到的Python知识，其中每一行都以“In Python you can”打头。将这个文件命名为\r\n",
    "learning_python.txt，并将其存储到为完成本章练习而编写的程序所在的目录中。编写一个程序，它读取这个文件，并将你所写的内容打印三次：第一次打印时读取整个\r\n",
    "文件；第二次打印时遍历文件对象；第三次打印时将各行存储在一个列表中，再在with 代码块外打印它们。"
   ],
   "metadata": {}
  },
  {
   "cell_type": "code",
   "execution_count": 2,
   "source": [
    "with open('learning_python.txt') as file_object:\r\n",
    "    contents = file_object.read()\r\n",
    "    print(contents)"
   ],
   "outputs": [
    {
     "output_type": "stream",
     "name": "stdout",
     "text": [
      "In Python you can bulid deep learning network.\n",
      "In Python you can process data.\n",
      "In Python you can crawl website.\n"
     ]
    }
   ],
   "metadata": {}
  },
  {
   "cell_type": "code",
   "execution_count": 2,
   "source": [
    "with open('learning_python.txt') as file_object:\r\n",
    "    lines = file_object.readlines()\r\n",
    "    #print(lines)\r\n",
    "\r\n",
    "for line in lines:\r\n",
    "    print(line)"
   ],
   "outputs": [
    {
     "output_type": "stream",
     "name": "stdout",
     "text": [
      "In Python you can bulid deep learning network.\n",
      "\n",
      "In Python you can process data.\n",
      "\n",
      "In Python you can crawl website.\n"
     ]
    }
   ],
   "metadata": {}
  },
  {
   "cell_type": "markdown",
   "source": [
    "10-2 C语言学习笔记 ：可使用方法replace() 将字符串中的特定单词都替换为另一个单词。"
   ],
   "metadata": {}
  },
  {
   "cell_type": "code",
   "execution_count": 12,
   "source": [
    "with open('learning_python.txt') as file_object:\r\n",
    "    lines = file_object.readlines()\r\n",
    "    #print(lines)\r\n",
    "\r\n",
    "for line in lines:\r\n",
    "    print(line.replace('Python','C'))"
   ],
   "outputs": [
    {
     "output_type": "stream",
     "name": "stdout",
     "text": [
      "In C you can bulid deep learning network.\n",
      "\n",
      "In C you can process data.\n",
      "\n",
      "In C you can crawl website.\n"
     ]
    }
   ],
   "metadata": {}
  },
  {
   "cell_type": "code",
   "execution_count": 9,
   "source": [
    "message = \"I really like dogs.\"\r\n"
   ],
   "outputs": [
    {
     "output_type": "execute_result",
     "data": {
      "text/plain": [
       "'I really like cats.'"
      ]
     },
     "metadata": {},
     "execution_count": 9
    }
   ],
   "metadata": {}
  },
  {
   "cell_type": "markdown",
   "source": [
    "10-3 访客 ：编写一个程序，提示用户输入其名字；用户作出响应后，将其名字写入到文件guest.txt中。"
   ],
   "metadata": {}
  },
  {
   "cell_type": "code",
   "execution_count": 2,
   "source": [
    "name = input(\"Please enter your name:\")\r\n",
    "file_name = 'name.txt'\r\n",
    "with open(file_name,'w') as file_object:\r\n",
    "    file_object.write(name)"
   ],
   "outputs": [],
   "metadata": {}
  },
  {
   "cell_type": "markdown",
   "source": [
    "10-4 访客名单 ：编写一个while 循环，提示用户输入其名字。用户输入其名字后，在屏幕上打印一句问候语，并将一条访问记录添加到文件guest_book.txt中。确保这\r\n",
    "个文件中的每条记录都独占一行。"
   ],
   "metadata": {}
  },
  {
   "cell_type": "code",
   "execution_count": 4,
   "source": [
    "name = input(\"Please enter your name:\")\r\n",
    "file_name = \"name_record.txt\"\r\n",
    "while(name != ' '):\r\n",
    "    print(\"Hello \"+ name+\"!\")\r\n",
    "    with open(file_name,'a') as file_object:\r\n",
    "        file_object.write(\"Access member:\"+name+'.\\n')\r\n",
    "    name = input(\"Please enter your name:\")\r\n"
   ],
   "outputs": [
    {
     "output_type": "stream",
     "name": "stdout",
     "text": [
      "Hello Jiaxi!\n",
      "Hello Mama!\n"
     ]
    }
   ],
   "metadata": {}
  },
  {
   "cell_type": "markdown",
   "source": [
    "10-5 关于编程的调查 ：编写一个while 循环，询问用户为何喜欢编程。每当用户输入一个原因后，都将其添加到一个存储所有原因的文件中。"
   ],
   "metadata": {}
  },
  {
   "cell_type": "code",
   "execution_count": null,
   "source": [
    "information = input(\"Please enter your reason:\")\r\n",
    "file_name = 'reason.txt'\r\n",
    "while(information != \" \"):\r\n",
    "    with open(file_name,'a') as file_object:\r\n",
    "        file_object.write(information+'\\n')\r\n",
    "    information = input(\"Please enter your reason:\")\r\n"
   ],
   "outputs": [],
   "metadata": {}
  }
 ],
 "metadata": {
  "orig_nbformat": 4,
  "language_info": {
   "name": "python",
   "version": "3.6.13",
   "mimetype": "text/x-python",
   "codemirror_mode": {
    "name": "ipython",
    "version": 3
   },
   "pygments_lexer": "ipython3",
   "nbconvert_exporter": "python",
   "file_extension": ".py"
  },
  "kernelspec": {
   "name": "python3",
   "display_name": "Python 3.6.13 64-bit ('selflearn': conda)"
  },
  "interpreter": {
   "hash": "5b38f05bd6522b0487c113649d2686f87cf4f3aa32a9c5b87f9648b7a6a4af61"
  }
 },
 "nbformat": 4,
 "nbformat_minor": 2
}