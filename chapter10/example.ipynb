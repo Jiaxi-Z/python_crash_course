{
 "metadata": {
  "language_info": {
   "codemirror_mode": {
    "name": "ipython",
    "version": 3
   },
   "file_extension": ".py",
   "mimetype": "text/x-python",
   "name": "python",
   "nbconvert_exporter": "python",
   "pygments_lexer": "ipython3",
   "version": "3.6.13"
  },
  "orig_nbformat": 2,
  "kernelspec": {
   "name": "python3",
   "display_name": "Python 3.6.13 64-bit ('selflearn': conda)"
  },
  "interpreter": {
   "hash": "5b38f05bd6522b0487c113649d2686f87cf4f3aa32a9c5b87f9648b7a6a4af61"
  }
 },
 "nbformat": 4,
 "nbformat_minor": 2,
 "cells": [
  {
   "cell_type": "markdown",
   "source": [
    "# 10.1 从文件中读取数据"
   ],
   "metadata": {}
  },
  {
   "cell_type": "markdown",
   "source": [
    "# 10.1.1 读取文件"
   ],
   "metadata": {}
  },
  {
   "cell_type": "code",
   "execution_count": 12,
   "source": [
    "with open('pi_digits.txt') as file_object:\r\n",
    "    contents = file_object.read()\r\n",
    "    print(contents)"
   ],
   "outputs": [
    {
     "output_type": "stream",
     "name": "stdout",
     "text": [
      "3.141592635\n",
      "8979323846\n",
      "2643383279\n"
     ]
    }
   ],
   "metadata": {}
  },
  {
   "cell_type": "code",
   "execution_count": 13,
   "source": [
    "type(contents)"
   ],
   "outputs": [
    {
     "output_type": "execute_result",
     "data": {
      "text/plain": [
       "str"
      ]
     },
     "metadata": {},
     "execution_count": 13
    }
   ],
   "metadata": {}
  },
  {
   "cell_type": "code",
   "execution_count": 14,
   "source": [
    "with open('pi_digits.txt') as file_object:\r\n",
    "    contents = file_object.read()\r\n",
    "    print(contents.rstrip())"
   ],
   "outputs": [
    {
     "output_type": "stream",
     "name": "stdout",
     "text": [
      "3.141592635\n",
      "8979323846\n",
      "2643383279\n"
     ]
    }
   ],
   "metadata": {}
  },
  {
   "cell_type": "markdown",
   "source": [
    "## 10.1.2 读取路径"
   ],
   "metadata": {}
  },
  {
   "cell_type": "markdown",
   "source": [
    "Linux 用\"/\""
   ],
   "metadata": {}
  },
  {
   "cell_type": "code",
   "execution_count": 15,
   "source": [
    "# 相对路径\r\n",
    "with open('text_files/filename.txt') as file_object:\r\n",
    "\r\n",
    "# 绝对路径\r\n",
    "file_path = '/home/ehmatthes/other_files/text_files/filename.txt'\r\n",
    "with open(file_path) as file_object:"
   ],
   "outputs": [
    {
     "output_type": "error",
     "ename": "IndentationError",
     "evalue": "expected an indented block (<ipython-input-15-a2d7f40f29dd>, line 5)",
     "traceback": [
      "\u001b[1;36m  File \u001b[1;32m\"<ipython-input-15-a2d7f40f29dd>\"\u001b[1;36m, line \u001b[1;32m5\u001b[0m\n\u001b[1;33m    file_path = '/home/ehmatthes/other_files/text_files/filename.txt'\u001b[0m\n\u001b[1;37m            ^\u001b[0m\n\u001b[1;31mIndentationError\u001b[0m\u001b[1;31m:\u001b[0m expected an indented block\n"
     ]
    }
   ],
   "metadata": {}
  },
  {
   "cell_type": "markdown",
   "source": [
    "Windows 用\"\\\""
   ],
   "metadata": {}
  },
  {
   "cell_type": "code",
   "execution_count": null,
   "source": [
    "# 相对路径\r\n",
    "with open('text_files\\filename.txt') as file_object:\r\n",
    "\r\n",
    "# 绝对路径\r\n",
    "file_path = 'C:\\Users\\ehmatthes\\other_files\\text_files\\filename.txt'\r\n",
    "with open(file_path) as file_object:"
   ],
   "outputs": [],
   "metadata": {}
  },
  {
   "cell_type": "markdown",
   "source": [
    "## 10.1.3 逐行读取"
   ],
   "metadata": {}
  },
  {
   "cell_type": "code",
   "execution_count": null,
   "source": [
    "file_name = 'pi_digits.txt'\r\n",
    "\r\n",
    "with open(file_name) as file_object:\r\n",
    "    for line in file_object:\r\n",
    "        print(line)"
   ],
   "outputs": [
    {
     "output_type": "stream",
     "name": "stdout",
     "text": [
      "3.141592635\n",
      "\n",
      "8979323846\n",
      "\n",
      "2643383279\n"
     ]
    }
   ],
   "metadata": {}
  },
  {
   "cell_type": "code",
   "execution_count": null,
   "source": [
    "file_name = 'pi_digits.txt'\r\n",
    "\r\n",
    "with open(file_name) as file_object:\r\n",
    "    for line in file_object:\r\n",
    "        print(line.rstrip())"
   ],
   "outputs": [
    {
     "output_type": "stream",
     "name": "stdout",
     "text": [
      "3.141592635\n",
      "8979323846\n",
      "2643383279\n"
     ]
    }
   ],
   "metadata": {}
  },
  {
   "cell_type": "markdown",
   "source": [
    "## 10.1.4 创建一个包含文件各行内容的列表"
   ],
   "metadata": {}
  },
  {
   "cell_type": "code",
   "execution_count": null,
   "source": [
    "filename = 'pi_digits.txt'\r\n",
    "\r\n",
    "with open(filename) as file_object:\r\n",
    "    lines = file_object.readlines()\r\n",
    "\r\n",
    "for line in lines:\r\n",
    "    print(line.rstrip())"
   ],
   "outputs": [
    {
     "output_type": "stream",
     "name": "stdout",
     "text": [
      "3.141592635\n",
      "8979323846\n",
      "2643383279\n"
     ]
    }
   ],
   "metadata": {}
  },
  {
   "cell_type": "code",
   "execution_count": null,
   "source": [
    "type(lines)"
   ],
   "outputs": [
    {
     "output_type": "execute_result",
     "data": {
      "text/plain": [
       "list"
      ]
     },
     "metadata": {},
     "execution_count": 8
    }
   ],
   "metadata": {}
  },
  {
   "cell_type": "markdown",
   "source": [
    "这里用 ```readlines()``` 将读入的文本保存为list格式\r\n",
    "对比一开始保存的字符串格式"
   ],
   "metadata": {}
  },
  {
   "cell_type": "code",
   "execution_count": null,
   "source": [
    "with open('pi_digits.txt') as file_object:\r\n",
    "    contents = file_object.read()\r\n",
    "    print(contents)\r\n",
    "\r\n",
    "print(type(contents))"
   ],
   "outputs": [
    {
     "output_type": "stream",
     "name": "stdout",
     "text": [
      "3.141592635\n",
      "8979323846\n",
      "2643383279\n",
      "<class 'str'>\n"
     ]
    }
   ],
   "metadata": {}
  },
  {
   "cell_type": "markdown",
   "source": [
    "```readlines()```  从文件中读取每一行，并将其存储在一个列表中；接下来，该列表被存储到变量lines 中；在with 代码块外，我们依然可以使用这个变量。其后使用一个简单的for 循环来打印lines 中的各行。由于列表lines 的每个元素都对应于文件中的一行，因此输出与文件内容完全一致。"
   ],
   "metadata": {}
  },
  {
   "cell_type": "markdown",
   "source": [
    "## 10.1.5 使用文件的内容"
   ],
   "metadata": {}
  },
  {
   "cell_type": "code",
   "execution_count": null,
   "source": [
    "file_name = 'pi_digits.txt'\r\n",
    "\r\n",
    "with open(file_name) as file_object:\r\n",
    "    lines = file_object.readlines()\r\n",
    "\r\n",
    "pi_string = ''\r\n",
    "for line in lines:\r\n",
    "    pi_string += line.rstrip()\r\n",
    "\r\n",
    "print(pi_string)\r\n",
    "print(len(pi_string))\r\n"
   ],
   "outputs": [
    {
     "output_type": "stream",
     "name": "stdout",
     "text": [
      "3.14159263589793238462643383279\n",
      "31\n"
     ]
    }
   ],
   "metadata": {}
  },
  {
   "cell_type": "markdown",
   "source": [
    "## 10.1.6 包含一百万位的大型文件"
   ],
   "metadata": {}
  },
  {
   "cell_type": "code",
   "execution_count": null,
   "source": [
    "file_name = 'pi_million_digits.txt'\r\n",
    "\r\n",
    "with open(file_name) as file_object:\r\n",
    "    lines = file_object.readlines()\r\n",
    "\r\n",
    "pi_string = ''\r\n",
    "for line in lines:\r\n",
    "    pi_string += line.strip()\r\n",
    "\r\n",
    "print(pi_string[ :52] + \"...\")\r\n",
    "print(len(pi_string))\r\n"
   ],
   "outputs": [
    {
     "output_type": "stream",
     "name": "stdout",
     "text": [
      "3.14159265358979323846264338327950288419716939937510...\n",
      "1000002\n"
     ]
    }
   ],
   "metadata": {}
  },
  {
   "cell_type": "markdown",
   "source": [
    "## 10.1.7 选取特色字段"
   ],
   "metadata": {}
  },
  {
   "cell_type": "code",
   "execution_count": 18,
   "source": [
    "flie_name = 'pi_million_digits.txt'\r\n",
    "\r\n",
    "with open(file_name) as file_object:\r\n",
    "    lines = file_object.readlines()\r\n",
    "\r\n",
    "pi_string = ''\r\n",
    "for line in lines:\r\n",
    "    pi_string += line.rstrip()\r\n",
    "\r\n",
    "birthday = input(\"Enter your birhtday, in the form mmddyy: \")\r\n",
    "if birthday in pi_string:\r\n",
    "    print(\"Your birthday appears in the first millon digits of pi!\")\r\n",
    "else:\r\n",
    "    print(\"Your birthday dose not appear in the first millon digits of pi!\")"
   ],
   "outputs": [
    {
     "output_type": "stream",
     "name": "stdout",
     "text": [
      "Your birthday dose not appear in the first millon digits of pi!\n"
     ]
    }
   ],
   "metadata": {}
  },
  {
   "cell_type": "markdown",
   "source": [
    "# 10.2 写入文件"
   ],
   "metadata": {}
  },
  {
   "cell_type": "markdown",
   "source": [
    "## 10.2.1 写入空文件"
   ],
   "metadata": {}
  },
  {
   "cell_type": "code",
   "execution_count": 1,
   "source": [
    "file_name = 'programming.txt'\r\n",
    "\r\n",
    "with open(file_name,'w') as file_object:\r\n",
    "    file_object.write(\"I love programming.\")"
   ],
   "outputs": [],
   "metadata": {}
  },
  {
   "cell_type": "markdown",
   "source": [
    "## 10.2.2 写入多行"
   ],
   "metadata": {}
  },
  {
   "cell_type": "code",
   "execution_count": 2,
   "source": [
    "file_name = 'programming.txt'\r\n",
    "\r\n",
    "with open(file_name,'w') as file_object:\r\n",
    "    file_object.write(\"I love programming.\\n\")\r\n",
    "    file_object.write(\"I love creating new games.\\n\")"
   ],
   "outputs": [],
   "metadata": {}
  },
  {
   "cell_type": "markdown",
   "source": [
    "## 10.2.3 附加到文件"
   ],
   "metadata": {}
  },
  {
   "cell_type": "code",
   "execution_count": 3,
   "source": [
    "file_name = 'programming.txt'\r\n",
    "\r\n",
    "with open(file_name,'a') as file_object:\r\n",
    "    file_object.write(\"I also love finding meaning in large datasets.\\n\")\r\n",
    "    file_object.write(\"I love creating apps that can run in a browser.\\n\")"
   ],
   "outputs": [],
   "metadata": {}
  },
  {
   "cell_type": "markdown",
   "source": [
    "# 10.3 异常"
   ],
   "metadata": {}
  },
  {
   "cell_type": "markdown",
   "source": [
    "## 10.3.1 处理ZeroDivisionError 异常"
   ],
   "metadata": {}
  },
  {
   "cell_type": "code",
   "execution_count": 4,
   "source": [
    "print(5/0)"
   ],
   "outputs": [
    {
     "output_type": "error",
     "ename": "ZeroDivisionError",
     "evalue": "division by zero",
     "traceback": [
      "\u001b[1;31m---------------------------------------------------------------------------\u001b[0m",
      "\u001b[1;31mZeroDivisionError\u001b[0m                         Traceback (most recent call last)",
      "\u001b[1;32m<ipython-input-4-fad870a50e27>\u001b[0m in \u001b[0;36m<module>\u001b[1;34m\u001b[0m\n\u001b[1;32m----> 1\u001b[1;33m \u001b[0mprint\u001b[0m\u001b[1;33m(\u001b[0m\u001b[1;36m5\u001b[0m\u001b[1;33m/\u001b[0m\u001b[1;36m0\u001b[0m\u001b[1;33m)\u001b[0m\u001b[1;33m\u001b[0m\u001b[1;33m\u001b[0m\u001b[0m\n\u001b[0m",
      "\u001b[1;31mZeroDivisionError\u001b[0m: division by zero"
     ]
    }
   ],
   "metadata": {}
  },
  {
   "cell_type": "markdown",
   "source": [
    "## 10.3.2 使用try-except代码块"
   ],
   "metadata": {}
  },
  {
   "cell_type": "code",
   "execution_count": 5,
   "source": [
    "try:\r\n",
    "    print(5/0)\r\n",
    "except ZeroDivisionError:\r\n",
    "    print(\"You can't divide by zero!\")"
   ],
   "outputs": [
    {
     "output_type": "stream",
     "name": "stdout",
     "text": [
      "You can't divide by zero!\n"
     ]
    }
   ],
   "metadata": {}
  },
  {
   "cell_type": "markdown",
   "source": [
    "## 10.3.3 使用异常避免代码崩溃"
   ],
   "metadata": {}
  },
  {
   "cell_type": "code",
   "execution_count": null,
   "source": [],
   "outputs": [],
   "metadata": {}
  }
 ]
}