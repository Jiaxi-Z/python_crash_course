{
 "metadata": {
  "language_info": {
   "codemirror_mode": {
    "name": "ipython",
    "version": 3
   },
   "file_extension": ".py",
   "mimetype": "text/x-python",
   "name": "python",
   "nbconvert_exporter": "python",
   "pygments_lexer": "ipython3",
   "version": "3.8.5-final"
  },
  "orig_nbformat": 2,
  "kernelspec": {
   "name": "python3",
   "display_name": "Python 3.8.5 64-bit (conda)",
   "metadata": {
    "interpreter": {
     "hash": "cc5f70855ac006f3de45a3cc3b9e7d8d53845e50458809cb162b0174266dec97"
    }
   }
  }
 },
 "nbformat": 4,
 "nbformat_minor": 2,
 "cells": [
  {
   "cell_type": "markdown",
   "source": [
    "# 10.1 从文件中读取数据"
   ],
   "metadata": {}
  },
  {
   "cell_type": "markdown",
   "source": [
    "# 10.1.1 读取文件"
   ],
   "metadata": {}
  },
  {
   "cell_type": "code",
   "execution_count": 9,
   "source": [
    "with open('pi_digits.txt') as file_object:\r\n",
    "    contents = file_object.read()\r\n",
    "    print(contents)"
   ],
   "outputs": [
    {
     "output_type": "stream",
     "name": "stdout",
     "text": [
      "3.141592635\n",
      "8979323846\n",
      "2643383279\n"
     ]
    }
   ],
   "metadata": {}
  },
  {
   "cell_type": "code",
   "execution_count": 10,
   "source": [
    "type(contents)"
   ],
   "outputs": [
    {
     "output_type": "execute_result",
     "data": {
      "text/plain": [
       "str"
      ]
     },
     "metadata": {},
     "execution_count": 10
    }
   ],
   "metadata": {}
  },
  {
   "cell_type": "code",
   "execution_count": 2,
   "source": [
    "with open('pi_digits.txt') as file_object:\r\n",
    "    contents = file_object.read()\r\n",
    "    print(contents.rstrip())"
   ],
   "outputs": [
    {
     "output_type": "stream",
     "name": "stdout",
     "text": [
      "3.141592635\n",
      "8979323846\n",
      "2643383279\n"
     ]
    }
   ],
   "metadata": {}
  },
  {
   "cell_type": "markdown",
   "source": [
    "## 10.1.2 读取路径"
   ],
   "metadata": {}
  },
  {
   "cell_type": "markdown",
   "source": [
    "Linux 用\"/\""
   ],
   "metadata": {}
  },
  {
   "cell_type": "code",
   "execution_count": null,
   "source": [
    "# 相对路径\r\n",
    "with open('text_files/filename.txt') as file_object:\r\n",
    "\r\n",
    "# 绝对路径\r\n",
    "file_path = '/home/ehmatthes/other_files/text_files/filename.txt'\r\n",
    "with open(file_path) as file_object:"
   ],
   "outputs": [],
   "metadata": {}
  },
  {
   "cell_type": "markdown",
   "source": [
    "Windows 用\"\\\""
   ],
   "metadata": {}
  },
  {
   "cell_type": "code",
   "execution_count": null,
   "source": [
    "# 相对路径\r\n",
    "with open('text_files\\filename.txt') as file_object:\r\n",
    "\r\n",
    "# 绝对路径\r\n",
    "file_path = 'C:\\Users\\ehmatthes\\other_files\\text_files\\filename.txt'\r\n",
    "with open(file_path) as file_object:"
   ],
   "outputs": [],
   "metadata": {}
  },
  {
   "cell_type": "markdown",
   "source": [
    "## 10.1.3 逐行读取"
   ],
   "metadata": {}
  },
  {
   "cell_type": "code",
   "execution_count": 4,
   "source": [
    "file_name = 'pi_digits.txt'\r\n",
    "\r\n",
    "with open(file_name) as file_object:\r\n",
    "    for line in file_object:\r\n",
    "        print(line)"
   ],
   "outputs": [
    {
     "output_type": "stream",
     "name": "stdout",
     "text": [
      "3.141592635\n",
      "\n",
      "8979323846\n",
      "\n",
      "2643383279\n"
     ]
    }
   ],
   "metadata": {}
  },
  {
   "cell_type": "code",
   "execution_count": 5,
   "source": [
    "file_name = 'pi_digits.txt'\r\n",
    "\r\n",
    "with open(file_name) as file_object:\r\n",
    "    for line in file_object:\r\n",
    "        print(line.rstrip())"
   ],
   "outputs": [
    {
     "output_type": "stream",
     "name": "stdout",
     "text": [
      "3.141592635\n",
      "8979323846\n",
      "2643383279\n"
     ]
    }
   ],
   "metadata": {}
  },
  {
   "cell_type": "markdown",
   "source": [
    "## 10.1.4 创建一个包含文件各行内容的列表"
   ],
   "metadata": {}
  },
  {
   "cell_type": "code",
   "execution_count": 6,
   "source": [
    "filename = 'pi_digits.txt'\r\n",
    "\r\n",
    "with open(filename) as file_object:\r\n",
    "    lines = file_object.readlines()\r\n",
    "\r\n",
    "for line in lines:\r\n",
    "    print(line.rstrip())"
   ],
   "outputs": [
    {
     "output_type": "stream",
     "name": "stdout",
     "text": [
      "3.141592635\n",
      "8979323846\n",
      "2643383279\n"
     ]
    }
   ],
   "metadata": {}
  },
  {
   "cell_type": "code",
   "execution_count": 8,
   "source": [
    "type(lines)"
   ],
   "outputs": [
    {
     "output_type": "execute_result",
     "data": {
      "text/plain": [
       "list"
      ]
     },
     "metadata": {},
     "execution_count": 8
    }
   ],
   "metadata": {}
  },
  {
   "cell_type": "markdown",
   "source": [
    "这里用 ```readlines()``` 将读入的文本保存为list格式\r\n",
    "对比一开始保存的字符串格式"
   ],
   "metadata": {}
  },
  {
   "cell_type": "code",
   "execution_count": 11,
   "source": [
    "with open('pi_digits.txt') as file_object:\r\n",
    "    contents = file_object.read()\r\n",
    "    print(contents)\r\n",
    "\r\n",
    "print(type(contents))"
   ],
   "outputs": [
    {
     "output_type": "stream",
     "name": "stdout",
     "text": [
      "3.141592635\n",
      "8979323846\n",
      "2643383279\n",
      "<class 'str'>\n"
     ]
    }
   ],
   "metadata": {}
  },
  {
   "cell_type": "markdown",
   "source": [
    "```readlines()```  从文件中读取每一行，并将其存储在一个列表中；接下来，该列表被存储到变量lines 中；在with 代码块外，我们依然可以使用这个变量。其后使用一个简单的for 循环来打印lines 中的各行。由于列表lines 的每个元素都对应于文件中的一行，因此输出与文件内容完全一致。"
   ],
   "metadata": {}
  },
  {
   "cell_type": "markdown",
   "source": [
    "## 10.1.5 使用文件的内容"
   ],
   "metadata": {}
  },
  {
   "cell_type": "code",
   "execution_count": null,
   "source": [],
   "outputs": [],
   "metadata": {}
  }
 ]
}