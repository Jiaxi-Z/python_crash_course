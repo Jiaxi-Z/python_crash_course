{
 "metadata": {
  "language_info": {
   "codemirror_mode": {
    "name": "ipython",
    "version": 3
   },
   "file_extension": ".py",
   "mimetype": "text/x-python",
   "name": "python",
   "nbconvert_exporter": "python",
   "pygments_lexer": "ipython3",
   "version": 3
  },
  "orig_nbformat": 2
 },
 "nbformat": 4,
 "nbformat_minor": 2,
 "cells": [
  {
   "source": [
    "## 9.1　创建和使用类"
   ],
   "cell_type": "markdown",
   "metadata": {}
  },
  {
   "cell_type": "code",
   "execution_count": null,
   "metadata": {},
   "outputs": [],
   "source": [
    "class Dog():\n",
    "    \"\"\"一次模拟小狗的简单尝试\"\"\"\n",
    "\n",
    "    def __init__(self,name,age):\n",
    "        \"\"\"初始化属性name和age\"\"\"\n",
    "        self.name = name\n",
    "        self.age = age\n",
    "    \n",
    "    def sit(self):\n",
    "        \"\"\"模拟小狗被命令蹲下\"\"\"\n",
    "        print(self.name.title() + \" is now sitting.\")\n",
    "    \n",
    "    def roll_over(self):       \n",
    "         \"\"\"模拟小狗被命令蹲下\"\"\"\n",
    "        print(self.name.title() + \" rolled over!\")"
   ]
  }
 ]
}