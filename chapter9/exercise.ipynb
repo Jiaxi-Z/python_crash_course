{
 "metadata": {
  "language_info": {
   "codemirror_mode": {
    "name": "ipython",
    "version": 3
   },
   "file_extension": ".py",
   "mimetype": "text/x-python",
   "name": "python",
   "nbconvert_exporter": "python",
   "pygments_lexer": "ipython3",
   "version": "3.8.5-final"
  },
  "orig_nbformat": 2,
  "kernelspec": {
   "name": "python3",
   "display_name": "Python 3",
   "language": "python"
  }
 },
 "nbformat": 4,
 "nbformat_minor": 2,
 "cells": [
  {
   "source": [
    "9-1 餐馆 ：创建一个名为Restaurant 的类，其方法__init__() 设置两个属性：restaurant_name 和cuisine_type 。创建一个名为describe_restaurant() 的方法和一个名为open_restaurant() 的方法，其中前者打印前述两项信息，而后者打印一条消息，指出餐馆正在营业。根据这个类创建一个名为restaurant 的实例，分别打印其两个属性，再调用前述两个方法。"
   ],
   "cell_type": "markdown",
   "metadata": {}
  },
  {
   "cell_type": "code",
   "execution_count": 1,
   "metadata": {},
   "outputs": [],
   "source": [
    "class Restaurant():\n",
    "    def __init__(self,restaurant_name,cuisine_type):\n",
    "        self.restaurant_name = restaurant_name\n",
    "        self.cuisine_type = cuisine_type\n",
    "    \n",
    "    def describe_restaurant(self):\n",
    "        print(\"The name of this restaurant is: \" + self.restaurant_name.title() + \".\")\n",
    "        print(\"The cuisine type of it is: \" + self.cuisine_type.title() + \".\")\n",
    "    \n",
    "    def open_restaurant(self):\n",
    "        print(\"The restaurant is opening now\")"
   ]
  },
  {
   "cell_type": "code",
   "execution_count": 2,
   "metadata": {},
   "outputs": [
    {
     "output_type": "stream",
     "name": "stdout",
     "text": [
      "The name of this restaurant is: Mala.\nThe cuisine type of it is: Chinese.\nThe restaurant is opening now\n"
     ]
    }
   ],
   "source": [
    "restaurant = Restaurant('mala','chinese')\n",
    "restaurant.describe_restaurant()\n",
    "restaurant.open_restaurant()"
   ]
  },
  {
   "source": [
    "9-2 三家餐馆 ：根据你为完成练习9-1而编写的类创建三个实例，并对每个实例调用方法describe_restaurant() 。"
   ],
   "cell_type": "markdown",
   "metadata": {}
  },
  {
   "cell_type": "code",
   "execution_count": 3,
   "metadata": {},
   "outputs": [
    {
     "output_type": "stream",
     "name": "stdout",
     "text": [
      "The name of this restaurant is: Mala.\nThe cuisine type of it is: Chinese.\nThe name of this restaurant is: Swqz.\nThe cuisine type of it is: Malysia.\nThe name of this restaurant is: Nono.\nThe cuisine type of it is: Indian.\n"
     ]
    }
   ],
   "source": [
    "jiulixiang = Restaurant('mala','chinese')\n",
    "maly = Restaurant('Swqz','malysia')\n",
    "india = Restaurant('nono','indian')\n",
    "\n",
    "jiulixiang.describe_restaurant()\n",
    "maly.describe_restaurant()\n",
    "india.describe_restaurant()"
   ]
  },
  {
   "source": [
    "9-3 用户 ：创建一个名为User 的类，其中包含属性first_name 和last_name ，还有用户简介通常会存储的其他几个属性。在类User 中定义一个名\n",
    "为describe_user() 的方法，它打印用户信息摘要；再定义一个名为greet_user() 的方法，它向用户发出个性化的问候。\n",
    "创建多个表示不同用户的实例，并对每个实例都调用上述两个方法。"
   ],
   "cell_type": "markdown",
   "metadata": {}
  },
  {
   "cell_type": "code",
   "execution_count": 8,
   "metadata": {},
   "outputs": [],
   "source": [
    "class User():\n",
    "    def __init__(self,first_name,last_name):\n",
    "        self.first_name = first_name\n",
    "        self.last_name = last_name\n",
    "    \n",
    "    def describe_user(self):\n",
    "        print(\"The name is \" + self.first_name.title() + \" \" + self.last_name.title() + \".\")\n",
    "    \n",
    "    def greet_user(self):\n",
    "        print(\"Hello \" + self.first_name.title() + \"!\")"
   ]
  },
  {
   "cell_type": "code",
   "execution_count": 10,
   "metadata": {},
   "outputs": [
    {
     "output_type": "stream",
     "name": "stdout",
     "text": [
      "The name is Jenny Z.\nHello Jenny!\nThe name is Curry M.\nHello Curry!\nThe name is Purcy W.\nHello Purcy!\n"
     ]
    }
   ],
   "source": [
    "jenny = User('jenny','Z')\n",
    "curry = User('curry','M')\n",
    "purcy = User('purcy','W')\n",
    "\n",
    "jenny.describe_user()\n",
    "jenny.greet_user()\n",
    "curry.describe_user()\n",
    "curry.greet_user()\n",
    "purcy.describe_user()\n",
    "purcy.greet_user()"
   ]
  },
  {
   "cell_type": "code",
   "execution_count": null,
   "metadata": {},
   "outputs": [],
   "source": []
  }
 ]
}