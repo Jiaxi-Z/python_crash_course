{
 "metadata": {
  "language_info": {
   "codemirror_mode": {
    "name": "ipython",
    "version": 3
   },
   "file_extension": ".py",
   "mimetype": "text/x-python",
   "name": "python",
   "nbconvert_exporter": "python",
   "pygments_lexer": "ipython3",
   "version": "3.8.5-final"
  },
  "orig_nbformat": 2,
  "kernelspec": {
   "name": "python3",
   "display_name": "Python 3",
   "language": "python"
  }
 },
 "nbformat": 4,
 "nbformat_minor": 2,
 "cells": [
  {
   "source": [
    "9-1 餐馆 ：创建一个名为Restaurant 的类，其方法__init__() 设置两个属性：restaurant_name 和cuisine_type 。创建一个名为describe_restaurant() 的方法和一个名为open_restaurant() 的方法，其中前者打印前述两项信息，而后者打印一条消息，指出餐馆正在营业。根据这个类创建一个名为restaurant 的实例，分别打印其两个属性，再调用前述两个方法。"
   ],
   "cell_type": "markdown",
   "metadata": {}
  },
  {
   "cell_type": "code",
   "execution_count": 1,
   "metadata": {},
   "outputs": [],
   "source": [
    "class Restaurant():\n",
    "    def __init__(self,restaurant_name,cuisine_type):\n",
    "        self.restaurant_name = restaurant_name\n",
    "        self.cuisine_type = cuisine_type\n",
    "    \n",
    "    def describe_restaurant(self):\n",
    "        print(\"The name of this restaurant is: \" + self.restaurant_name.title() + \".\")\n",
    "        print(\"The cuisine type of it is: \" + self.cuisine_type.title() + \".\")\n",
    "    \n",
    "    def open_restaurant(self):\n",
    "        print(\"The restaurant is opening now\")"
   ]
  },
  {
   "cell_type": "code",
   "execution_count": 2,
   "metadata": {},
   "outputs": [
    {
     "output_type": "stream",
     "name": "stdout",
     "text": [
      "The name of this restaurant is: Mala.\nThe cuisine type of it is: Chinese.\nThe restaurant is opening now\n"
     ]
    }
   ],
   "source": [
    "restaurant = Restaurant('mala','chinese')\n",
    "restaurant.describe_restaurant()\n",
    "restaurant.open_restaurant()"
   ]
  },
  {
   "source": [
    "9-2 三家餐馆 ：根据你为完成练习9-1而编写的类创建三个实例，并对每个实例调用方法describe_restaurant() 。"
   ],
   "cell_type": "markdown",
   "metadata": {}
  },
  {
   "cell_type": "code",
   "execution_count": 3,
   "metadata": {},
   "outputs": [
    {
     "output_type": "stream",
     "name": "stdout",
     "text": [
      "The name of this restaurant is: Mala.\nThe cuisine type of it is: Chinese.\nThe name of this restaurant is: Swqz.\nThe cuisine type of it is: Malysia.\nThe name of this restaurant is: Nono.\nThe cuisine type of it is: Indian.\n"
     ]
    }
   ],
   "source": [
    "jiulixiang = Restaurant('mala','chinese')\n",
    "maly = Restaurant('Swqz','malysia')\n",
    "india = Restaurant('nono','indian')\n",
    "\n",
    "jiulixiang.describe_restaurant()\n",
    "maly.describe_restaurant()\n",
    "india.describe_restaurant()"
   ]
  },
  {
   "source": [
    "9-3 用户 ：创建一个名为User 的类，其中包含属性first_name 和last_name ，还有用户简介通常会存储的其他几个属性。在类User 中定义一个名\n",
    "为describe_user() 的方法，它打印用户信息摘要；再定义一个名为greet_user() 的方法，它向用户发出个性化的问候。\n",
    "创建多个表示不同用户的实例，并对每个实例都调用上述两个方法。"
   ],
   "cell_type": "markdown",
   "metadata": {}
  },
  {
   "cell_type": "code",
   "execution_count": 8,
   "metadata": {},
   "outputs": [],
   "source": [
    "class User():\n",
    "    def __init__(self,first_name,last_name):\n",
    "        self.first_name = first_name\n",
    "        self.last_name = last_name\n",
    "    \n",
    "    def describe_user(self):\n",
    "        print(\"The name is \" + self.first_name.title() + \" \" + self.last_name.title() + \".\")\n",
    "    \n",
    "    def greet_user(self):\n",
    "        print(\"Hello \" + self.first_name.title() + \"!\")"
   ]
  },
  {
   "cell_type": "code",
   "execution_count": 10,
   "metadata": {},
   "outputs": [
    {
     "output_type": "stream",
     "name": "stdout",
     "text": [
      "The name is Jenny Z.\nHello Jenny!\nThe name is Curry M.\nHello Curry!\nThe name is Purcy W.\nHello Purcy!\n"
     ]
    }
   ],
   "source": [
    "jenny = User('jenny','Z')\n",
    "curry = User('curry','M')\n",
    "purcy = User('purcy','W')\n",
    "\n",
    "jenny.describe_user()\n",
    "jenny.greet_user()\n",
    "curry.describe_user()\n",
    "curry.greet_user()\n",
    "purcy.describe_user()\n",
    "purcy.greet_user()"
   ]
  },
  {
   "source": [
    "9-4 就餐人数 ：在为完成练习9-1而编写的程序中，添加一个名为number_served 的属性，并将其默认值设置为0。根据这个类创建一个名为restaurant的实例；打印有多少人在这家餐馆就餐过，然后修改这个值并再次打印它。\n",
    "\n",
    "添加一个名为set_number_served() 的方法，它让你能够设置就餐人数。调用这个方法并向它传递一个值，然后再次打印这个值。\n",
    "\n",
    "添加一个名为increment_number_served() 的方法，它让你能够将就餐人数递增。调用这个方法并向它传递一个这样的值：你认为这家餐馆每天可能接待的就餐人数。"
   ],
   "cell_type": "markdown",
   "metadata": {}
  },
  {
   "cell_type": "code",
   "execution_count": 9,
   "metadata": {},
   "outputs": [],
   "source": [
    "class Restaurant():\n",
    "    def __init__(self,restaurant_name,cuisine_type):\n",
    "        self.restaurant_name = restaurant_name\n",
    "        self.cuisine_type = cuisine_type\n",
    "        self.number_served = 0\n",
    "    \n",
    "    def describe_restaurant(self):\n",
    "        print(\"The name of this restaurant is: \" + self.restaurant_name.title() + \".\")\n",
    "        print(\"The cuisine type of it is: \" + self.cuisine_type.title() + \".\")\n",
    "    \n",
    "    def open_restaurant(self):\n",
    "        print(\"The restaurant is opening now\")\n",
    "\n",
    "    def read_number(self):\n",
    "        \"\"\"打印餐馆就餐人数的消息\"\"\"\n",
    "        print(\"This restaurant has \" + str(self.number_served) + \" customers in it.\")\n",
    "    \n",
    "    def set_number_served(self,number):\n",
    "        self.number_served = number\n",
    "\n",
    "    def increment_number_served(self, new_number):\n",
    "        self.number_served += new_number"
   ]
  },
  {
   "cell_type": "code",
   "execution_count": 10,
   "metadata": {},
   "outputs": [
    {
     "output_type": "stream",
     "name": "stdout",
     "text": [
      "The name of this restaurant is: Mala.\nThe cuisine type of it is: Chinese.\nThe restaurant is opening now\nThis restaurant has 60 customers in it.\n"
     ]
    }
   ],
   "source": [
    "restaurant = Restaurant('mala','chinese')\n",
    "restaurant.describe_restaurant()\n",
    "restaurant.open_restaurant()\n",
    "restaurant.set_number_served(50)\n",
    "restaurant.increment_number_served(10)\n",
    "restaurant.read_number()"
   ]
  },
  {
   "source": [
    "9-5 尝试登录次数 ：在为完成练习9-3而编写的User 类中，添加一个名为login_attempts 的属性。编写一个名为increment_login_attempts() 的方法，\n",
    "它将属性login_attempts 的值加1。再编写一个名为reset_login_attempts() 的方法，它将属性login_attempts 的值重置为0。\n",
    "\n",
    "根据User 类创建一个实例，再调用方法increment_login_attempts() 多次。打印属性login_attempts 的值，确认它被正确地递增；然后,调用方法reset_login_attempts() ，并再次打印属性login_attempts 的值，确认它被重置为0。"
   ],
   "cell_type": "markdown",
   "metadata": {}
  },
  {
   "cell_type": "code",
   "execution_count": 16,
   "metadata": {},
   "outputs": [],
   "source": [
    "class User():\n",
    "    def __init__(self,first_name,last_name):\n",
    "        self.first_name = first_name\n",
    "        self.last_name = last_name\n",
    "        self.login_attempts = 0\n",
    "    \n",
    "    def describe_user(self):\n",
    "        print(\"The name is \" + self.first_name.title() + \" \" + self.last_name.title() + \".\")\n",
    "    \n",
    "    def greet_user(self):\n",
    "        print(\"Hello \" + self.first_name.title() + \"!\")\n",
    "    \n",
    "    def user_numbers(self):\n",
    "        print(\"The user numbers now are: \" + str(self.login_attempts))\n",
    "\n",
    "    def increment_login_attempts(self):\n",
    "        self.login_attempts += 1\n",
    "    \n",
    "    def reset_login_attempts(self):\n",
    "        self.login_attempts = 0\n"
   ]
  },
  {
   "cell_type": "code",
   "execution_count": 21,
   "metadata": {},
   "outputs": [
    {
     "output_type": "stream",
     "name": "stdout",
     "text": [
      "The user numbers now are: 0\n"
     ]
    }
   ],
   "source": [
    "jenny = User('je','Z')\n",
    "jenny.increment_login_attempts()\n",
    "jenny.increment_login_attempts()\n",
    "jenny.increment_login_attempts()\n",
    "jenny.reset_login_attempts()\n",
    "jenny.user_numbers()"
   ]
  },
  {
   "source": [
    "9-6 冰淇淋小店 ：冰淇淋小店是一种特殊的餐馆。编写一个名为IceCreamStand 的类，让它继承你为完成练习9-1或练习9-4而编写的Restaurant 类。这两个版\n",
    "本的Restaurant 类都可以，挑选你更喜欢的那个即可。添加一个名为flavors 的属性，用于存储一个由各种口味的冰淇淋组成的列表。编写一个显示这些冰淇淋\n",
    "的方法。创建一个IceCreamStand 实例，并调用这个方法。"
   ],
   "cell_type": "markdown",
   "metadata": {}
  },
  {
   "cell_type": "code",
   "execution_count": 43,
   "metadata": {},
   "outputs": [],
   "source": [
    "class Restaurant():\n",
    "    def __init__(self,restaurant_name,cuisine_type):\n",
    "        self.restaurant_name = restaurant_name\n",
    "        self.cuisine_type = cuisine_type\n",
    "    \n",
    "    def describe_restaurant(self):\n",
    "        print(\"The name of this restaurant is: \" + self.restaurant_name.title() + \".\")\n",
    "        print(\"The cuisine type of it is: \" + self.cuisine_type.title() + \".\")\n",
    "    \n",
    "    def open_restaurant(self):\n",
    "        print(\"The restaurant is opening now\")"
   ]
  },
  {
   "cell_type": "code",
   "execution_count": 55,
   "metadata": {},
   "outputs": [],
   "source": [
    "class IceCreamStand(Restaurant):\n",
    "    def __init__(self,restaurant_name,cuisine_type):\n",
    "        super().__init__(restaurant_name,cuisine_type)\n",
    "        self.flavors = []\n",
    "\n",
    "    def show_flavors(self):\n",
    "        for flavor in self.flavors:\n",
    "            print(\"We have \" + flavor +\" icecreams.\")\n",
    "\n",
    "    "
   ]
  },
  {
   "cell_type": "code",
   "execution_count": 56,
   "metadata": {},
   "outputs": [
    {
     "output_type": "stream",
     "name": "stdout",
     "text": [
      "We have duran icecreams.\nWe have strawberry icecreams.\nWe have mango icecreams.\n"
     ]
    }
   ],
   "source": [
    "my_icecream=IceCreamStand(\"mala\",\"chinese\")\n",
    "my_icecream.flavors = ['duran', 'strawberry','mango']\n",
    "my_icecream.show_flavors()"
   ]
  },
  {
   "source": [
    "9-7 管理员 ：管理员是一种特殊的用户。编写一个名为Admin 的类，让它继承你为完成练习9-3或练习9-5而编写的User 类。添加一个名为privileges 的属性，用\n",
    "于存储一个由字符串（如\"can add post\" 、\"can delete post\" 、\"can ban user\" 等）组成的列表。编写一个名为show_privileges() 的方法，它\n",
    "显示管理员的权限。创建一个Admin 实例，并调用这个方法。\n"
   ],
   "cell_type": "markdown",
   "metadata": {}
  },
  {
   "cell_type": "code",
   "execution_count": 61,
   "metadata": {},
   "outputs": [],
   "source": [
    "class User():\n",
    "    def __init__(self,first_name,last_name):\n",
    "        self.first_name = first_name\n",
    "        self.last_name = last_name\n",
    "    \n",
    "    def describe_user(self):\n",
    "        print(\"The name is \" + self.first_name.title() + \" \" + self.last_name.title() + \".\")\n",
    "    \n",
    "    def greet_user(self):\n",
    "        print(\"Hello \" + self.first_name.title() + \"!\")"
   ]
  },
  {
   "cell_type": "code",
   "execution_count": 62,
   "metadata": {},
   "outputs": [],
   "source": [
    "class Admin(User):\n",
    "    def __init__(self,first_name,last_name):\n",
    "        super().__init__(first_name,last_name)\n",
    "        self.privileges = []\n",
    "    def show_privileges(self):\n",
    "        for privilege in self.privileges:\n",
    "            print(privilege)"
   ]
  },
  {
   "cell_type": "code",
   "execution_count": 63,
   "metadata": {},
   "outputs": [
    {
     "output_type": "stream",
     "name": "stdout",
     "text": [
      "can add post\ncan delete post\ncan ban user\n"
     ]
    }
   ],
   "source": [
    "jen = Admin('jen','s')\n",
    "jen.privileges = [\"can add post\", \"can delete post\", \"can ban user\"]\n",
    "jen.show_privileges()"
   ]
  },
  {
   "cell_type": "code",
   "execution_count": null,
   "metadata": {},
   "outputs": [],
   "source": []
  }
 ]
}